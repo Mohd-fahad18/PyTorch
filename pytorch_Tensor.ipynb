{
 "cells": [
  {
   "cell_type": "code",
   "execution_count": 53,
   "id": "5db6845b",
   "metadata": {},
   "outputs": [],
   "source": [
    "import torch"
   ]
  },
  {
   "cell_type": "code",
   "execution_count": 54,
   "id": "abe1fd1f",
   "metadata": {},
   "outputs": [
    {
     "name": "stdout",
     "output_type": "stream",
     "text": [
      "GPU not available Using GPU\n"
     ]
    }
   ],
   "source": [
    "if torch.cuda.is_available():\n",
    "    print(\"GPU is available!\")\n",
    "    print(f\"Using GPU: {torch.cuda.get_device_name(0)}\")\n",
    "else:\n",
    "    print(\"GPU not available Using GPU\")"
   ]
  },
  {
   "cell_type": "markdown",
   "id": "7bbf4c05",
   "metadata": {},
   "source": [
    "## 1) Creating a Tensor"
   ]
  },
  {
   "cell_type": "code",
   "execution_count": 55,
   "id": "fa2663f2",
   "metadata": {},
   "outputs": [],
   "source": [
    "a = torch.empty(2,3)"
   ]
  },
  {
   "cell_type": "code",
   "execution_count": 56,
   "id": "bf628b39",
   "metadata": {},
   "outputs": [
    {
     "data": {
      "text/plain": [
       "torch.Tensor"
      ]
     },
     "execution_count": 56,
     "metadata": {},
     "output_type": "execute_result"
    }
   ],
   "source": [
    "type(a)"
   ]
  },
  {
   "cell_type": "code",
   "execution_count": 57,
   "id": "2ea1d50d",
   "metadata": {},
   "outputs": [
    {
     "data": {
      "text/plain": [
       "tensor([[0., 0., 0.],\n",
       "        [0., 0., 0.]])"
      ]
     },
     "execution_count": 57,
     "metadata": {},
     "output_type": "execute_result"
    }
   ],
   "source": [
    "# Using Zeros\n",
    "torch.zeros(2,3)"
   ]
  },
  {
   "cell_type": "code",
   "execution_count": 58,
   "id": "9d27b9a3",
   "metadata": {},
   "outputs": [
    {
     "data": {
      "text/plain": [
       "tensor([[0.1780, 0.3011, 0.1893],\n",
       "        [0.9186, 0.2131, 0.3957]])"
      ]
     },
     "execution_count": 58,
     "metadata": {},
     "output_type": "execute_result"
    }
   ],
   "source": [
    "# torch rand ( give random value btw 0-1)\n",
    "torch.rand(2,3)"
   ]
  },
  {
   "cell_type": "code",
   "execution_count": 59,
   "id": "2b696771",
   "metadata": {},
   "outputs": [
    {
     "data": {
      "text/plain": [
       "tensor([[0.1117, 0.8158, 0.2626],\n",
       "        [0.4839, 0.6765, 0.7539]])"
      ]
     },
     "execution_count": 59,
     "metadata": {},
     "output_type": "execute_result"
    }
   ],
   "source": [
    "# manual_seed ( use same value while rand show diff value when we run again )\n",
    "torch.manual_seed(100)\n",
    "torch.rand(2,3)"
   ]
  },
  {
   "cell_type": "code",
   "execution_count": 60,
   "id": "3dd3fc99",
   "metadata": {},
   "outputs": [
    {
     "data": {
      "text/plain": [
       "tensor([[0.1117, 0.8158, 0.2626],\n",
       "        [0.4839, 0.6765, 0.7539]])"
      ]
     },
     "execution_count": 60,
     "metadata": {},
     "output_type": "execute_result"
    }
   ],
   "source": [
    "# print same value as upper\n",
    "torch.manual_seed(100)\n",
    "torch.rand(2,3)"
   ]
  },
  {
   "cell_type": "code",
   "execution_count": 61,
   "id": "889021e3",
   "metadata": {},
   "outputs": [
    {
     "data": {
      "text/plain": [
       "tensor([[1, 2, 3],\n",
       "        [4, 5, 6]])"
      ]
     },
     "execution_count": 61,
     "metadata": {},
     "output_type": "execute_result"
    }
   ],
   "source": [
    "# using tensor\n",
    "torch.tensor([[1,2,3],[4,5,6]])"
   ]
  },
  {
   "cell_type": "code",
   "execution_count": 62,
   "id": "bd0d7816",
   "metadata": {},
   "outputs": [
    {
     "name": "stdout",
     "output_type": "stream",
     "text": [
      "Using arange -> tensor([0, 2, 4, 6, 8])\n",
      "\n",
      "Using linspace -> tensor([ 0.0000,  1.1111,  2.2222,  3.3333,  4.4444,  5.5556,  6.6667,  7.7778,\n",
      "         8.8889, 10.0000])\n",
      "\n",
      "Using eye -> \n",
      " tensor([[1., 0., 0., 0., 0.],\n",
      "        [0., 1., 0., 0., 0.],\n",
      "        [0., 0., 1., 0., 0.],\n",
      "        [0., 0., 0., 1., 0.],\n",
      "        [0., 0., 0., 0., 1.]])\n",
      "\n",
      "Using full -> \n",
      " tensor([[5, 5, 5],\n",
      "        [5, 5, 5],\n",
      "        [5, 5, 5]])\n"
     ]
    }
   ],
   "source": [
    "# arange \n",
    "print(\"Using arange ->\",torch.arange(0,10,2))  #done slicing\n",
    "\n",
    "#using linspace\n",
    "print(\"\\nUsing linspace ->\",torch.linspace(0,10,10)) #range 0-10 evenly space 10 no\n",
    "\n",
    "# using eye \n",
    "print(\"\\nUsing eye -> \\n\",torch.eye(5)) # print identity matrix\n",
    "\n",
    "# using full\n",
    "print(\"\\nUsing full -> \\n\", torch.full((3,3),5)) # matrix 3 X 3 of no 5"
   ]
  },
  {
   "cell_type": "markdown",
   "id": "bced98f1",
   "metadata": {},
   "source": [
    "### Tesnor Shape"
   ]
  },
  {
   "cell_type": "code",
   "execution_count": 63,
   "id": "3de65e6d",
   "metadata": {},
   "outputs": [
    {
     "name": "stdout",
     "output_type": "stream",
     "text": [
      "tensor([[1, 2, 3],\n",
      "        [4, 5, 6]])\n"
     ]
    },
    {
     "data": {
      "text/plain": [
       "torch.Size([2, 3])"
      ]
     },
     "execution_count": 63,
     "metadata": {},
     "output_type": "execute_result"
    }
   ],
   "source": [
    "x = torch.tensor([[1,2,3],[4,5,6]])\n",
    "print(x)\n",
    "x.shape"
   ]
  },
  {
   "cell_type": "code",
   "execution_count": 64,
   "id": "0b71987a",
   "metadata": {},
   "outputs": [
    {
     "data": {
      "text/plain": [
       "tensor([[4611686018427387904, 4595145985553858560, 4601585856296255488],\n",
       "        [4597248719937601536, 4606222999341760512, 4587329636848893952]])"
      ]
     },
     "execution_count": 64,
     "metadata": {},
     "output_type": "execute_result"
    }
   ],
   "source": [
    "# make another tensor with same shape\n",
    "torch.empty_like(x)"
   ]
  },
  {
   "cell_type": "code",
   "execution_count": 65,
   "id": "1a90e7b2",
   "metadata": {},
   "outputs": [
    {
     "data": {
      "text/plain": [
       "tensor([[0, 0, 0],\n",
       "        [0, 0, 0]])"
      ]
     },
     "execution_count": 65,
     "metadata": {},
     "output_type": "execute_result"
    }
   ],
   "source": [
    "torch.zeros_like(x) # use one also"
   ]
  },
  {
   "cell_type": "code",
   "execution_count": 66,
   "id": "9dd9f49b",
   "metadata": {},
   "outputs": [],
   "source": [
    "# below code give error bcz x is int while rand give float\n",
    "\n",
    "#torch.rand_like(x)"
   ]
  },
  {
   "cell_type": "markdown",
   "id": "72991367",
   "metadata": {},
   "source": [
    "## Tensor Data type"
   ]
  },
  {
   "cell_type": "code",
   "execution_count": 67,
   "id": "f036a066",
   "metadata": {},
   "outputs": [
    {
     "data": {
      "text/plain": [
       "torch.int64"
      ]
     },
     "execution_count": 67,
     "metadata": {},
     "output_type": "execute_result"
    }
   ],
   "source": [
    "# find data type\n",
    "x.dtype"
   ]
  },
  {
   "cell_type": "code",
   "execution_count": 68,
   "id": "8ea90cd4",
   "metadata": {},
   "outputs": [
    {
     "data": {
      "text/plain": [
       "tensor([1, 2, 3], dtype=torch.int32)"
      ]
     },
     "execution_count": 68,
     "metadata": {},
     "output_type": "execute_result"
    }
   ],
   "source": [
    "# assign data type \n",
    "torch.tensor([1.0,2.0,3.0],dtype = torch.int32)"
   ]
  },
  {
   "cell_type": "code",
   "execution_count": 69,
   "id": "d18ced90",
   "metadata": {},
   "outputs": [
    {
     "data": {
      "text/plain": [
       "tensor([1., 2., 3.], dtype=torch.float64)"
      ]
     },
     "execution_count": 69,
     "metadata": {},
     "output_type": "execute_result"
    }
   ],
   "source": [
    "torch.tensor([1.0,2.0,3.0],dtype = torch.float64)"
   ]
  },
  {
   "cell_type": "code",
   "execution_count": 70,
   "id": "b5ba612f",
   "metadata": {},
   "outputs": [
    {
     "data": {
      "text/plain": [
       "tensor([[1., 2., 3.],\n",
       "        [4., 5., 6.]])"
      ]
     },
     "execution_count": 70,
     "metadata": {},
     "output_type": "execute_result"
    }
   ],
   "source": [
    "# Using .to()\n",
    "x.to(torch.float32)"
   ]
  },
  {
   "cell_type": "markdown",
   "id": "ff4ce1da",
   "metadata": {},
   "source": [
    "## 2) Mathmatical operation on tensor"
   ]
  },
  {
   "cell_type": "code",
   "execution_count": 71,
   "id": "c6eab386",
   "metadata": {},
   "outputs": [
    {
     "name": "stdout",
     "output_type": "stream",
     "text": [
      "Addition: \n",
      " tensor([[3, 4, 5],\n",
      "        [6, 7, 8]])\n",
      "Substraction : \n",
      " tensor([[-1,  0,  1],\n",
      "        [ 2,  3,  4]])\n",
      "Multiplication : \n",
      " tensor([[ 2,  4,  6],\n",
      "        [ 8, 10, 12]])\n",
      "Division : \n",
      " tensor([[0, 1, 1],\n",
      "        [2, 2, 3]])\n",
      "Power : \n",
      " tensor([[ 1,  4,  9],\n",
      "        [16, 25, 36]])\n"
     ]
    }
   ],
   "source": [
    "# addition \n",
    "print(\"Addition: \\n\",x + 2)\n",
    "\n",
    "# substraction \n",
    "\n",
    "print(\"Substraction : \\n\",x -2)\n",
    "\n",
    "# Multiplication \n",
    "\n",
    "print(\"Multiplication : \\n\",x *2)\n",
    "\n",
    "# int Division\n",
    "print(\"Division : \\n\",x // 2)\n",
    "\n",
    "# pow \n",
    "\n",
    "print(\"Power : \\n\",x **2)\n",
    "\n"
   ]
  },
  {
   "cell_type": "code",
   "execution_count": 72,
   "id": "e730c26d",
   "metadata": {},
   "outputs": [
    {
     "name": "stdout",
     "output_type": "stream",
     "text": [
      "tensor([[0.2627, 0.0428, 0.2080],\n",
      "        [0.1180, 0.1217, 0.7356]])\n",
      "tensor([[0.7118, 0.7876, 0.4183],\n",
      "        [0.9014, 0.9969, 0.7565]])\n",
      "Addition :\n",
      " tensor([[0.9745, 0.8304, 0.6263],\n",
      "        [1.0195, 1.1186, 1.4921]])\n"
     ]
    }
   ],
   "source": [
    "a = torch.rand(2,3)\n",
    "b = torch.rand(2,3)\n",
    "\n",
    "print(a)\n",
    "print(b)\n",
    "\n",
    "# tensor addition\n",
    "print(\"Addition :\\n\",a+b) #same as sub,mul,div,mod,pow"
   ]
  },
  {
   "cell_type": "code",
   "execution_count": 73,
   "id": "174c8794",
   "metadata": {},
   "outputs": [
    {
     "name": "stdout",
     "output_type": "stream",
     "text": [
      "Absolute value:\n",
      " tensor([1, 2, 3, 4])\n",
      "\n",
      "Negative value:\n",
      " tensor([-1,  2, -3,  4])\n",
      "\n",
      "Round value:\n",
      " tensor([2., 2., 4., 4.])\n",
      "\n",
      "Ceil value:\n",
      " tensor([2., 3., 4., 5.])\n",
      "\n",
      "Floor value:\n",
      " tensor([1., 2., 3., 4.])\n",
      "\n",
      "Clamp value:\n",
      " tensor([2.0000, 2.3000, 3.0000, 3.0000])\n"
     ]
    }
   ],
   "source": [
    "c= torch.tensor([1,-2,3,-4])\n",
    "\n",
    "# some more operation \n",
    "\n",
    "# abs\n",
    "print('Absolute value:\\n',torch.abs(c))\n",
    "\n",
    "# negative\n",
    "print('\\nNegative value:\\n',torch.neg(c))\n",
    "\n",
    "d = torch.tensor([1.9,2.3,3.7,4.4])\n",
    "\n",
    "#Round\n",
    "print('\\nRound value:\\n',torch.round(d))\n",
    "\n",
    "# Ceil\n",
    "print('\\nCeil value:\\n',torch.ceil(d)) # move to next int\n",
    "\n",
    "# floor\n",
    "print('\\nFloor value:\\n',torch.floor(d)) # prev int\n",
    "\n",
    "#clamp\n",
    "print('\\nClamp value:\\n',torch.clamp(d,min=2, max=3))  # less than 2 -> 2 , greter than 3 -> 3 ( Certain range)\n",
    "\n"
   ]
  },
  {
   "cell_type": "markdown",
   "id": "863fdd01",
   "metadata": {},
   "source": [
    "## 3) Reduction operation "
   ]
  },
  {
   "cell_type": "code",
   "execution_count": 74,
   "id": "5a31081f",
   "metadata": {},
   "outputs": [
    {
     "name": "stdout",
     "output_type": "stream",
     "text": [
      "tensor([[4., 3., 8.],\n",
      "        [7., 4., 6.]])\n",
      "\n",
      "Sum of all :\n",
      " tensor(32.)\n",
      "\n",
      "Sum of col :\n",
      " tensor([11.,  7., 14.])\n",
      "\n",
      "Sum of row :\n",
      " tensor([15., 17.])\n"
     ]
    }
   ],
   "source": [
    "e = torch.randint(size=(2,3), low=0,high=10,dtype=torch.float32)\n",
    "print(e)\n",
    "\n",
    "# sum ( for whole)\n",
    "print(\"\\nSum of all :\\n\",torch.sum(e))\n",
    "\n",
    "# Sum along column\n",
    "print(\"\\nSum of col :\\n\",torch.sum(e,dim=0))\n",
    "\n",
    "# sum of rows\n",
    "print(\"\\nSum of row :\\n\",torch.sum(e,dim=1))"
   ]
  },
  {
   "cell_type": "code",
   "execution_count": 75,
   "id": "9b834916",
   "metadata": {},
   "outputs": [
    {
     "data": {
      "text/plain": [
       "tensor(5.3333)"
      ]
     },
     "execution_count": 75,
     "metadata": {},
     "output_type": "execute_result"
    }
   ],
   "source": [
    "# mean \n",
    "torch.mean(e)"
   ]
  },
  {
   "cell_type": "code",
   "execution_count": 76,
   "id": "00d9157f",
   "metadata": {},
   "outputs": [
    {
     "data": {
      "text/plain": [
       "tensor(3.)"
      ]
     },
     "execution_count": 76,
     "metadata": {},
     "output_type": "execute_result"
    }
   ],
   "source": [
    "# max and min ( we can to col and row wise also )\n",
    "torch.max(e)\n",
    "torch.min(e)"
   ]
  },
  {
   "cell_type": "code",
   "execution_count": 77,
   "id": "532f9eec",
   "metadata": {},
   "outputs": [
    {
     "name": "stdout",
     "output_type": "stream",
     "text": [
      "standard deviation : tensor(1.9664)\n",
      "Argmax : tensor(2)\n",
      "Argmin : tensor(1)\n"
     ]
    }
   ],
   "source": [
    "# Standard deviation\n",
    "print(\"standard deviation :\",torch.std(e))\n",
    "\n",
    "# argmax  ( position of gretest no )\n",
    "print(\"Argmax :\",torch.argmax(e))  \n",
    "\n",
    "# argmin  ( position of smallest no )\n",
    "print(\"Argmin :\",torch.argmin(e))  "
   ]
  },
  {
   "cell_type": "markdown",
   "id": "d9839a08",
   "metadata": {},
   "source": [
    "## 4) Matrix Operation"
   ]
  },
  {
   "cell_type": "code",
   "execution_count": 78,
   "id": "bdc370b5",
   "metadata": {},
   "outputs": [
    {
     "name": "stdout",
     "output_type": "stream",
     "text": [
      "tensor([[0, 1, 9],\n",
      "        [9, 8, 0]])\n",
      "tensor([[7, 0],\n",
      "        [0, 9],\n",
      "        [5, 7]])\n"
     ]
    }
   ],
   "source": [
    "f = torch.randint(size=(2,3), low=0, high=10)\n",
    "g = torch.randint(size=(3,2), low=0, high=10)\n",
    "\n",
    "print(f)\n",
    "print(g)"
   ]
  },
  {
   "cell_type": "code",
   "execution_count": 79,
   "id": "9c834181",
   "metadata": {},
   "outputs": [
    {
     "data": {
      "text/plain": [
       "tensor([[45, 72],\n",
       "        [63, 72]])"
      ]
     },
     "execution_count": 79,
     "metadata": {},
     "output_type": "execute_result"
    }
   ],
   "source": [
    "# matrix multiplication \n",
    "torch.matmul(f,g)"
   ]
  },
  {
   "cell_type": "code",
   "execution_count": 80,
   "id": "3ae99dcc",
   "metadata": {},
   "outputs": [
    {
     "data": {
      "text/plain": [
       "tensor(11)"
      ]
     },
     "execution_count": 80,
     "metadata": {},
     "output_type": "execute_result"
    }
   ],
   "source": [
    "# dot product\n",
    "vec1 = torch.tensor([1,2])\n",
    "vec2 = torch.tensor([3,4])\n",
    "\n",
    "torch.dot(vec1,vec2)"
   ]
  },
  {
   "cell_type": "code",
   "execution_count": 81,
   "id": "d0bd2405",
   "metadata": {},
   "outputs": [
    {
     "name": "stdout",
     "output_type": "stream",
     "text": [
      "tensor([[0, 1, 9],\n",
      "        [9, 8, 0]])\n"
     ]
    },
    {
     "data": {
      "text/plain": [
       "tensor([[0, 9],\n",
       "        [1, 8],\n",
       "        [9, 0]])"
      ]
     },
     "execution_count": 81,
     "metadata": {},
     "output_type": "execute_result"
    }
   ],
   "source": [
    "# transpose\n",
    "print(f)\n",
    "torch.transpose(f,0,1)"
   ]
  },
  {
   "cell_type": "code",
   "execution_count": 82,
   "id": "5e889bfe",
   "metadata": {},
   "outputs": [
    {
     "name": "stdout",
     "output_type": "stream",
     "text": [
      "tensor([[3., 9.],\n",
      "        [4., 0.]])\n"
     ]
    },
    {
     "data": {
      "text/plain": [
       "tensor(-36.)"
      ]
     },
     "execution_count": 82,
     "metadata": {},
     "output_type": "execute_result"
    }
   ],
   "source": [
    "# determinant \n",
    "h = torch.randint(size=(2,2),low=0, high=10, dtype=torch.float32)\n",
    "print(h)\n",
    "torch.det(h)"
   ]
  },
  {
   "cell_type": "markdown",
   "id": "a17595d5",
   "metadata": {},
   "source": [
    "## 5) Comparison operation"
   ]
  },
  {
   "cell_type": "code",
   "execution_count": 83,
   "id": "9261ca2d",
   "metadata": {},
   "outputs": [
    {
     "name": "stdout",
     "output_type": "stream",
     "text": [
      "tensor([[5, 7, 5],\n",
      "        [9, 9, 7]])\n",
      "tensor([[5, 9, 8],\n",
      "        [9, 7, 9]])\n"
     ]
    }
   ],
   "source": [
    "i = torch.randint(size=(2,3), low=0, high=10)\n",
    "j = torch.randint(size=(2,3), low=0, high=10)\n",
    "\n",
    "print(i)\n",
    "print(j)"
   ]
  },
  {
   "cell_type": "code",
   "execution_count": 84,
   "id": "0515c345",
   "metadata": {},
   "outputs": [
    {
     "name": "stdout",
     "output_type": "stream",
     "text": [
      "Greater than:\n",
      " tensor([[False, False, False],\n",
      "        [False,  True, False]])\n",
      "\n",
      "Less than:\n",
      " tensor([[False,  True,  True],\n",
      "        [False, False,  True]])\n",
      "\n",
      "Less than:\n",
      " tensor([[ True, False, False],\n",
      "        [ True, False, False]])\n"
     ]
    }
   ],
   "source": [
    "# greter than \n",
    "print(\"Greater than:\\n\",i > j)\n",
    "\n",
    "# leas than\n",
    "print(\"\\nLess than:\\n\",i < j)\n",
    "\n",
    "# Equal to\n",
    "print(\"\\nLess than:\\n\",i == j)"
   ]
  },
  {
   "cell_type": "markdown",
   "id": "b657079f",
   "metadata": {},
   "source": [
    "## 6) Special function"
   ]
  },
  {
   "cell_type": "code",
   "execution_count": 85,
   "id": "dee8a741",
   "metadata": {},
   "outputs": [
    {
     "name": "stdout",
     "output_type": "stream",
     "text": [
      "tensor([[2., 6., 7.],\n",
      "        [7., 8., 3.]])\n"
     ]
    }
   ],
   "source": [
    "k = torch.randint(size=(2,3), low=0, high=10,dtype=torch.float32)\n",
    "print(k)"
   ]
  },
  {
   "cell_type": "code",
   "execution_count": 86,
   "id": "6eedc003",
   "metadata": {},
   "outputs": [
    {
     "data": {
      "text/plain": [
       "tensor([[0.6931, 1.7918, 1.9459],\n",
       "        [1.9459, 2.0794, 1.0986]])"
      ]
     },
     "execution_count": 86,
     "metadata": {},
     "output_type": "execute_result"
    }
   ],
   "source": [
    "# log\n",
    "torch.log(k)"
   ]
  },
  {
   "cell_type": "code",
   "execution_count": 87,
   "id": "b2e384da",
   "metadata": {},
   "outputs": [
    {
     "data": {
      "text/plain": [
       "tensor([[1.4142, 2.4495, 2.6458],\n",
       "        [2.6458, 2.8284, 1.7321]])"
      ]
     },
     "execution_count": 87,
     "metadata": {},
     "output_type": "execute_result"
    }
   ],
   "source": [
    "#sqrt\n",
    "torch.sqrt(k)"
   ]
  },
  {
   "cell_type": "code",
   "execution_count": 88,
   "id": "cabf9cfd",
   "metadata": {},
   "outputs": [
    {
     "data": {
      "text/plain": [
       "tensor([[0.8808, 0.9975, 0.9991],\n",
       "        [0.9991, 0.9997, 0.9526]])"
      ]
     },
     "execution_count": 88,
     "metadata": {},
     "output_type": "execute_result"
    }
   ],
   "source": [
    "#sigmoid\n",
    "torch.sigmoid(k)"
   ]
  },
  {
   "cell_type": "code",
   "execution_count": 89,
   "id": "667865b1",
   "metadata": {},
   "outputs": [
    {
     "data": {
      "text/plain": [
       "tensor([[0.0067, 0.1192, 0.9820],\n",
       "        [0.9933, 0.8808, 0.0180]])"
      ]
     },
     "execution_count": 89,
     "metadata": {},
     "output_type": "execute_result"
    }
   ],
   "source": [
    "#softmax \n",
    "torch.softmax(k,dim=0)\n"
   ]
  },
  {
   "cell_type": "code",
   "execution_count": 90,
   "id": "bfad8824",
   "metadata": {},
   "outputs": [
    {
     "data": {
      "text/plain": [
       "tensor([[2., 6., 7.],\n",
       "        [7., 8., 3.]])"
      ]
     },
     "execution_count": 90,
     "metadata": {},
     "output_type": "execute_result"
    }
   ],
   "source": [
    "# relu \n",
    "torch.relu(k)"
   ]
  },
  {
   "cell_type": "markdown",
   "id": "faff9912",
   "metadata": {},
   "source": [
    "## 7) Inplace Ooperation\n",
    "use '_' to make it permanent change"
   ]
  },
  {
   "cell_type": "code",
   "execution_count": 91,
   "id": "e34d5672",
   "metadata": {},
   "outputs": [
    {
     "name": "stdout",
     "output_type": "stream",
     "text": [
      "tensor([[0.9053, 0.8356, 0.3039],\n",
      "        [0.6726, 0.5740, 0.9233]])\n",
      "\n",
      "\n",
      "tensor([[0.9178, 0.7590, 0.7775],\n",
      "        [0.6179, 0.3379, 0.2170]])\n"
     ]
    }
   ],
   "source": [
    "m = torch.rand(2,3)\n",
    "n = torch.rand(2,3)\n",
    "\n",
    "print(m)\n",
    "print('\\n')\n",
    "print(n)"
   ]
  },
  {
   "cell_type": "code",
   "execution_count": 92,
   "id": "6042ecd3",
   "metadata": {},
   "outputs": [
    {
     "name": "stdout",
     "output_type": "stream",
     "text": [
      "tensor([[1.8231, 1.5946, 1.0814],\n",
      "        [1.2905, 0.9118, 1.1403]])\n"
     ]
    }
   ],
   "source": [
    "# add m and n and store in m to save space\n",
    "m.add_(n)\n",
    "print(m)"
   ]
  },
  {
   "cell_type": "markdown",
   "id": "bf850572",
   "metadata": {},
   "source": [
    "## Copying a Tensor"
   ]
  },
  {
   "cell_type": "code",
   "execution_count": 93,
   "id": "1f3af657",
   "metadata": {},
   "outputs": [
    {
     "data": {
      "text/plain": [
       "tensor([[0.9454, 0.7116, 0.1157],\n",
       "        [0.6574, 0.3451, 0.0453]])"
      ]
     },
     "execution_count": 93,
     "metadata": {},
     "output_type": "execute_result"
    }
   ],
   "source": [
    "a = torch.rand(2,3)\n",
    "a"
   ]
  },
  {
   "cell_type": "code",
   "execution_count": 94,
   "id": "7efee51b",
   "metadata": {},
   "outputs": [
    {
     "data": {
      "text/plain": [
       "tensor([[0.9454, 0.7116, 0.1157],\n",
       "        [0.6574, 0.3451, 0.0453]])"
      ]
     },
     "execution_count": 94,
     "metadata": {},
     "output_type": "execute_result"
    }
   ],
   "source": [
    "# make copy of a\n",
    "b = a\n",
    "b"
   ]
  },
  {
   "cell_type": "code",
   "execution_count": 95,
   "id": "e42d3153",
   "metadata": {},
   "outputs": [
    {
     "name": "stdout",
     "output_type": "stream",
     "text": [
      "tensor([[0.0000, 0.7116, 0.1157],\n",
      "        [0.6574, 0.3451, 0.0453]])\n",
      "tensor([[0.0000, 0.7116, 0.1157],\n",
      "        [0.6574, 0.3451, 0.0453]])\n"
     ]
    }
   ],
   "source": [
    "# problem \n",
    "a[0][0] = 0\n",
    "print(a)\n",
    "\n",
    "# 0 index of b also change if we change a\n",
    "print(b)"
   ]
  },
  {
   "cell_type": "code",
   "execution_count": null,
   "id": "fca18cc4",
   "metadata": {},
   "outputs": [
    {
     "name": "stdout",
     "output_type": "stream",
     "text": [
      "tensor([[0.0000, 0.7116, 0.1157],\n",
      "        [0.6574, 0.3451, 0.0453]])\n",
      "\n",
      "\n",
      "tensor([[2.0000, 0.7116, 0.1157],\n",
      "        [0.6574, 0.3451, 0.0453]])\n",
      "\n",
      "\n",
      "tensor([[0.0000, 0.7116, 0.1157],\n",
      "        [0.6574, 0.3451, 0.0453]])\n"
     ]
    }
   ],
   "source": [
    "# fix \n",
    "b = a.clone()\n",
    "print(b)\n",
    "print('\\n')\n",
    "\n",
    "a[0][0] = 2\n",
    "print(a)\n",
    "\n",
    "# now b not chnge on changing a\n",
    "print('\\n')\n",
    "print(b)"
   ]
  },
  {
   "cell_type": "markdown",
   "id": "38f19026",
   "metadata": {},
   "source": [
    "## reshape funtion"
   ]
  },
  {
   "cell_type": "code",
   "execution_count": 101,
   "id": "7dba716a",
   "metadata": {},
   "outputs": [
    {
     "data": {
      "text/plain": [
       "tensor([[1., 1., 1., 1.],\n",
       "        [1., 1., 1., 1.],\n",
       "        [1., 1., 1., 1.],\n",
       "        [1., 1., 1., 1.]])"
      ]
     },
     "execution_count": 101,
     "metadata": {},
     "output_type": "execute_result"
    }
   ],
   "source": [
    "a = torch.ones(4,4)\n",
    "a"
   ]
  },
  {
   "cell_type": "code",
   "execution_count": null,
   "id": "9bce7792",
   "metadata": {},
   "outputs": [
    {
     "data": {
      "text/plain": [
       "tensor([[[[1., 1.],\n",
       "          [1., 1.]],\n",
       "\n",
       "         [[1., 1.],\n",
       "          [1., 1.]]],\n",
       "\n",
       "\n",
       "        [[[1., 1.],\n",
       "          [1., 1.]],\n",
       "\n",
       "         [[1., 1.],\n",
       "          [1., 1.]]]])"
      ]
     },
     "execution_count": 102,
     "metadata": {},
     "output_type": "execute_result"
    }
   ],
   "source": [
    "# reshape\n",
    "a.reshape(2,2,2,2)"
   ]
  },
  {
   "cell_type": "code",
   "execution_count": null,
   "id": "5393ba78",
   "metadata": {},
   "outputs": [
    {
     "data": {
      "text/plain": [
       "tensor([1., 1., 1., 1., 1., 1., 1., 1., 1., 1., 1., 1., 1., 1., 1., 1.])"
      ]
     },
     "execution_count": 103,
     "metadata": {},
     "output_type": "execute_result"
    }
   ],
   "source": [
    "# flatten\n",
    "a.flatten() # 1D kr dega 16 elemnt ek sath"
   ]
  },
  {
   "cell_type": "code",
   "execution_count": null,
   "id": "40a4ae28",
   "metadata": {},
   "outputs": [
    {
     "data": {
      "text/plain": [
       "tensor([[[0.9798, 0.5548, 0.6868, 0.4920],\n",
       "         [0.0748, 0.9605, 0.3271, 0.0103],\n",
       "         [0.9516, 0.2855, 0.2324, 0.9141]],\n",
       "\n",
       "        [[0.7668, 0.1659, 0.4393, 0.2243],\n",
       "         [0.8935, 0.0497, 0.1780, 0.3011],\n",
       "         [0.1893, 0.9186, 0.2131, 0.3957]]])"
      ]
     },
     "execution_count": 104,
     "metadata": {},
     "output_type": "execute_result"
    }
   ],
   "source": [
    "# 3D\n",
    "b = torch.rand([2,3,4])\n",
    "b"
   ]
  },
  {
   "cell_type": "code",
   "execution_count": 105,
   "id": "91a3e8db",
   "metadata": {},
   "outputs": [
    {
     "data": {
      "text/plain": [
       "torch.Size([4, 2, 3])"
      ]
     },
     "execution_count": 105,
     "metadata": {},
     "output_type": "execute_result"
    }
   ],
   "source": [
    "# permute\n",
    "b.permute(2,0,1).shape"
   ]
  },
  {
   "cell_type": "code",
   "execution_count": null,
   "id": "9f083e7b",
   "metadata": {},
   "outputs": [
    {
     "data": {
      "text/plain": [
       "torch.Size([1, 226, 226, 3])"
      ]
     },
     "execution_count": 108,
     "metadata": {},
     "output_type": "execute_result"
    }
   ],
   "source": [
    "# unsqeeze \n",
    "# use in models further \n",
    "\n",
    "c = torch.rand(226,226,3)\n",
    "c.unsqueeze(0).shape"
   ]
  },
  {
   "cell_type": "markdown",
   "id": "aa80f189",
   "metadata": {},
   "source": [
    "# Numpy and pytorch"
   ]
  },
  {
   "cell_type": "code",
   "execution_count": 109,
   "id": "917f4f8c",
   "metadata": {},
   "outputs": [],
   "source": [
    "import numpy as np"
   ]
  },
  {
   "cell_type": "code",
   "execution_count": 111,
   "id": "bd28f335",
   "metadata": {},
   "outputs": [
    {
     "data": {
      "text/plain": [
       "tensor([1, 2, 3])"
      ]
     },
     "execution_count": 111,
     "metadata": {},
     "output_type": "execute_result"
    }
   ],
   "source": [
    "a = torch.tensor([1,2,3])\n",
    "a"
   ]
  },
  {
   "cell_type": "code",
   "execution_count": 114,
   "id": "8eb19961",
   "metadata": {},
   "outputs": [
    {
     "data": {
      "text/plain": [
       "array([1, 2, 3])"
      ]
     },
     "execution_count": 114,
     "metadata": {},
     "output_type": "execute_result"
    }
   ],
   "source": [
    "# conver tensor to numpy and store in b\n",
    "b = a.numpy()\n",
    "b"
   ]
  },
  {
   "cell_type": "code",
   "execution_count": 115,
   "id": "88b21a0e",
   "metadata": {},
   "outputs": [
    {
     "data": {
      "text/plain": [
       "numpy.ndarray"
      ]
     },
     "execution_count": 115,
     "metadata": {},
     "output_type": "execute_result"
    }
   ],
   "source": [
    "type(b)"
   ]
  },
  {
   "cell_type": "code",
   "execution_count": 116,
   "id": "20e251ea",
   "metadata": {},
   "outputs": [
    {
     "data": {
      "text/plain": [
       "tensor([1, 2, 3])"
      ]
     },
     "execution_count": 116,
     "metadata": {},
     "output_type": "execute_result"
    }
   ],
   "source": [
    "c = np.array([1,2,3])\n",
    "torch.from_numpy(c)"
   ]
  },
  {
   "cell_type": "code",
   "execution_count": null,
   "id": "a6e7ae25",
   "metadata": {},
   "outputs": [],
   "source": []
  }
 ],
 "metadata": {
  "kernelspec": {
   "display_name": "Python 3",
   "language": "python",
   "name": "python3"
  },
  "language_info": {
   "codemirror_mode": {
    "name": "ipython",
    "version": 3
   },
   "file_extension": ".py",
   "mimetype": "text/x-python",
   "name": "python",
   "nbconvert_exporter": "python",
   "pygments_lexer": "ipython3",
   "version": "3.12.4"
  }
 },
 "nbformat": 4,
 "nbformat_minor": 5
}
